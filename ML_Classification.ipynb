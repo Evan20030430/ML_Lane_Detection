{
  "nbformat": 4,
  "nbformat_minor": 0,
  "metadata": {
    "colab": {
      "provenance": []
    },
    "kernelspec": {
      "name": "python3",
      "display_name": "Python 3"
    },
    "language_info": {
      "name": "python"
    },
    "accelerator": "GPU",
    "gpuClass": "standard"
  },
  "cells": [
    {
      "cell_type": "code",
      "execution_count": null,
      "metadata": {
        "id": "GvTe8qm8VTyH"
      },
      "outputs": [],
      "source": [
        "import keras\n",
        "import tensorflow as tf\n",
        "import torch.nn as nn\n",
        "from torch.utils.data import DataLoader, Dataset\n",
        "import torchvision.transforms as transforms\n",
        "import torch\n",
        "from tqdm import tqdm"
      ]
    },
    {
      "cell_type": "code",
      "source": [
        "(x_train, y_train), (x_test, y_test) = tf.keras.datasets.mnist.load_data()"
      ],
      "metadata": {
        "colab": {
          "base_uri": "https://localhost:8080/"
        },
        "id": "Fetlh2S4Wslb",
        "outputId": "37997b5f-f47b-463c-9796-bda50204fea5"
      },
      "execution_count": null,
      "outputs": [
        {
          "output_type": "stream",
          "name": "stdout",
          "text": [
            "Downloading data from https://storage.googleapis.com/tensorflow/tf-keras-datasets/mnist.npz\n",
            "11490434/11490434 [==============================] - 0s 0us/step\n"
          ]
        }
      ]
    },
    {
      "cell_type": "code",
      "source": [
        "x_train.shape, x_test.shape, y_train.shape, y_test.shape"
      ],
      "metadata": {
        "colab": {
          "base_uri": "https://localhost:8080/"
        },
        "id": "Sp3cGL_AW-cz",
        "outputId": "1e6568e8-8454-4401-99d7-02264ddee92d"
      },
      "execution_count": null,
      "outputs": [
        {
          "output_type": "execute_result",
          "data": {
            "text/plain": [
              "((60000, 28, 28), (10000, 28, 28), (60000,), (10000,))"
            ]
          },
          "metadata": {},
          "execution_count": 3
        }
      ]
    },
    {
      "cell_type": "code",
      "source": [
        "class dataset(Dataset):\n",
        "  def __init__(self,test=False,transf=transforms.ToTensor()):\n",
        "    (x_train,y_train),(x_test,y_test)=tf.keras.datasets.mnist.load_data()\n",
        "    if test:\n",
        "      self.data, self.labels=x_test,y_test\n",
        "    else:\n",
        "      self.data, self.labels=x_train, y_train\n",
        "    self.trans=transf\n",
        "  \n",
        "  def __len__(self): return len(self.labels)\n",
        "\n",
        "  def __getitem__(self, index):\n",
        "    return self.trans(self.data[index]),self.labels[index]"
      ],
      "metadata": {
        "id": "NK45ILVwa_9F"
      },
      "execution_count": null,
      "outputs": []
    },
    {
      "cell_type": "code",
      "source": [
        "def train_model(model, data_loader, loss, optimizer, epochs):\n",
        "  #model.to(device)\n",
        "  #model.train()\n",
        "  for epoch in range(epochs):\n",
        "    model.train()\n",
        "    for data, labels in tqdm(train_data_load):\n",
        "      #model.to(device)\n",
        "      #labels.to(device)\n",
        "      #data.to(device)\n",
        "      output=model(data)\n",
        "      prob=nn.Softmax(dim=1)\n",
        "      predictions=prob(output)\n",
        "      batch_loss=loss(predictions, labels)\n",
        "      optimizer.zero_grad()\n",
        "      batch_loss.backward()\n",
        "      optimizer.step()"
      ],
      "metadata": {
        "id": "fnVO4kiJfkQP"
      },
      "execution_count": null,
      "outputs": []
    },
    {
      "cell_type": "code",
      "source": [
        "class model(nn.Module):\n",
        "  def __init__(self):\n",
        "    super().__init__()\n",
        "    self.flatten=nn.Flatten()\n",
        "    self.layer1=nn.Linear(in_features=784,out_features=200)\n",
        "    self.layer2=nn.Linear(in_features=200, out_features=100)\n",
        "    self.output_layer=nn.Linear(in_features=100, out_features=10)\n",
        "  \n",
        "  def forward(self,x):\n",
        "    x=self.flatten(x)\n",
        "    x=self.layer1(x)\n",
        "    x=self.layer2(x)\n",
        "    output=self.output_layer(x)\n",
        "    return output\n",
        "  \n",
        " \n",
        "\n",
        "model=model()\n",
        "loss=nn.CrossEntropyLoss()\n",
        "optimizer=torch.optim.Adam(model.parameters())\n",
        "\n",
        "train_data=dataset()\n",
        "train_data_load=DataLoader(train_data, batch_size=64, shuffle=True)\n",
        "\n",
        "epochs=10\n",
        "#device=torch.device('cuda:0')\n",
        "train_model(model, train_data_load, loss, optimizer, epochs)"
      ],
      "metadata": {
        "colab": {
          "base_uri": "https://localhost:8080/"
        },
        "id": "R3248pOaZrvY",
        "outputId": "63b482d8-bd60-4ad0-bdb0-89b7f02df7c9"
      },
      "execution_count": null,
      "outputs": [
        {
          "output_type": "stream",
          "name": "stderr",
          "text": [
            "100%|██████████| 938/938 [00:04<00:00, 209.66it/s]\n",
            "100%|██████████| 938/938 [00:04<00:00, 229.24it/s]\n",
            "100%|██████████| 938/938 [00:05<00:00, 179.19it/s]\n",
            "100%|██████████| 938/938 [00:05<00:00, 162.33it/s]\n",
            "100%|██████████| 938/938 [00:07<00:00, 128.13it/s]\n",
            "100%|██████████| 938/938 [00:07<00:00, 120.34it/s]\n",
            "100%|██████████| 938/938 [00:10<00:00, 92.97it/s] \n",
            "100%|██████████| 938/938 [00:09<00:00, 104.00it/s]\n",
            "100%|██████████| 938/938 [00:09<00:00, 101.04it/s]\n",
            "100%|██████████| 938/938 [00:09<00:00, 99.57it/s]\n"
          ]
        }
      ]
    },
    {
      "cell_type": "code",
      "source": [
        "predictions=model(data)"
      ],
      "metadata": {
        "id": "D0fBz6NqwSzk"
      },
      "execution_count": null,
      "outputs": []
    },
    {
      "cell_type": "code",
      "source": [
        "class a:\n",
        "  def __init__(self, var=1):\n",
        "    self.var=var\n",
        "  def prnt(self,var):\n",
        "    print('self var is', var)\n",
        "  \n",
        "  def __call__(self,data):\n",
        "    self.prnt(data)"
      ],
      "metadata": {
        "id": "HDVirEEtXXpG"
      },
      "execution_count": null,
      "outputs": []
    },
    {
      "cell_type": "code",
      "source": [
        "ob=a()\n",
        "ob(2)\n",
        "\n",
        "object_2 = a(5)\n",
        "object_2.prnt(3)\n",
        "object_2(10)"
      ],
      "metadata": {
        "colab": {
          "base_uri": "https://localhost:8080/"
        },
        "id": "Pma7PpM9XnZH",
        "outputId": "988910e5-42bc-4ab8-9255-849449a1791c"
      },
      "execution_count": null,
      "outputs": [
        {
          "output_type": "stream",
          "name": "stdout",
          "text": [
            "self var is 2\n",
            "self var is 3\n",
            "self var is 10\n"
          ]
        }
      ]
    }
  ]
}