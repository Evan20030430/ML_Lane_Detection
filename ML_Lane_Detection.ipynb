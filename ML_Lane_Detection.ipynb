{
  "nbformat": 4,
  "nbformat_minor": 0,
  "metadata": {
    "colab": {
      "provenance": []
    },
    "kernelspec": {
      "name": "python3",
      "display_name": "Python 3"
    },
    "language_info": {
      "name": "python"
    },
    "accelerator": "GPU",
    "gpuClass": "standard"
  },
  "cells": [
    {
      "cell_type": "code",
      "source": [
        "'''\n",
        "To Do:\n",
        "1. (DONE) Reshape forward function under model class into 299 * 299 * 3\n",
        "  Use layers in inception v3 (https://github.com/pytorch/vision/blob/main/torchvision/models/inception.py)\n",
        "    or pytorch (https://pytorch.org/docs/stable/nn.html) \n",
        "2. Superimpose image after training\n",
        "3. Look for other functions instead of resizing into 299 * 299\n",
        "\n",
        "Problems:\n",
        "1. Need to rerun every try (string concatenation)\n",
        "\n",
        "Questions:\n",
        "'''"
      ],
      "metadata": {
        "id": "K9fHrOPrjVoo",
        "colab": {
          "base_uri": "https://localhost:8080/",
          "height": 106
        },
        "outputId": "0c270e8a-a5d8-45a8-e9f0-50566ed950d1"
      },
      "execution_count": 1,
      "outputs": [
        {
          "output_type": "execute_result",
          "data": {
            "text/plain": [
              "'\\nTo Do:\\n1. (DONE) Reshape forward function under model class into 299 * 299 * 3\\n  Use layers in inception v3 (https://github.com/pytorch/vision/blob/main/torchvision/models/inception.py)\\n    or pytorch (https://pytorch.org/docs/stable/nn.html) \\n2. Superimpose image after training\\n\\nProblems:\\n1. Need to rerun every try (string concatenation)\\n\\nQuestions:\\n1. Why dimensions not the same as calculation\\n2. Stride and kernal size meaning\\n3. Does it need to be hardcoding input/output channel values? \\n4. Does model.eval() train the model already? (bottom block)\\n'"
            ],
            "application/vnd.google.colaboratory.intrinsic+json": {
              "type": "string"
            }
          },
          "metadata": {},
          "execution_count": 1
        }
      ]
    },
    {
      "cell_type": "code",
      "source": [
        "import keras\n",
        "import tensorflow as tf\n",
        "import torch.nn as nn\n",
        "from torch.utils.data import DataLoader, Dataset\n",
        "import torchvision.transforms as transforms\n",
        "import torch\n",
        "from tqdm import tqdm\n",
        "from torchvision.models.inception import Inception3\n",
        "import numpy as np\n",
        "import matplotlib.pyplot as plt"
      ],
      "metadata": {
        "id": "xbzbPFbSIog8"
      },
      "execution_count": 2,
      "outputs": []
    },
    {
      "cell_type": "code",
      "source": [
        "from IPython.core.display import Image\n",
        "from PIL import Image\n",
        "import os\n",
        "\n",
        "path = \"/content/drive/MyDrive/VIP/data_road/\"\n",
        "train_path = path + \"training/\"\n",
        "test_path = path + \"testing/\"\n",
        "\n",
        "train_data = os.listdir(train_path + \"image_2\")\n",
        "train_label = os.listdir(train_path + \"gt_image_2\")\n",
        "test_data = os.listdir(test_path + \"image_2\")\n",
        "\n",
        "class dataset(Dataset):\n",
        "  def __init__(self,test=False,transf=transforms.ToTensor()):\n",
        "    super().__init__()\n",
        "    self.test=test\n",
        "    self.trans = transf\n",
        "    if test:\n",
        "      self.data = test_data\n",
        "    else:\n",
        "      self.data = train_data\n",
        "      self.labels = train_label\n",
        "\n",
        "  def __len__(self):\n",
        "      return len(self.data)\n",
        "\n",
        "  def __getitem__(self, idx):\n",
        "    if self.test:\n",
        "      data_name = self.data[idx]\n",
        "      data = Image.open(test_path + \"image_2/\" + data_name)\n",
        "      data = data.resize((299, 299)) # Change later\n",
        "      return self.trans(data), 0\n",
        "    else:\n",
        "      data_name = self.data[idx]\n",
        "      label_name = self.labels[idx]\n",
        "      data = Image.open(train_path + \"image_2/\" + data_name)\n",
        "      #print(data.shape)\n",
        "      label = Image.open(train_path + \"gt_image_2/\" + label_name)\n",
        "      data = data.resize((299, 299)) # Change later\n",
        "      label = label.resize((299, 299)) # Change later\n",
        "      return self.trans(data), self.trans(label)"
      ],
      "metadata": {
        "id": "UhtRB2EiIqK_"
      },
      "execution_count": 14,
      "outputs": []
    },
    {
      "cell_type": "code",
      "source": [
        "def train_model(model, data_loader, loss, optimizer, epochs):\n",
        "  device=torch.device('cuda:0')\n",
        "  model.to(device)\n",
        "  model.train()\n",
        "  loss_list=[]\n",
        "  b_list=[]\n",
        "  for epoch in range(epochs):\n",
        "    print(\"Epoch: \", epoch)\n",
        "    model.train()\n",
        "    for data, label in tqdm(train_data_load):\n",
        "      #data=data.reshape(-1,1242 * 375 * 3) #-1 --> flatten into single vector\n",
        "      data=data.to(device)\n",
        "      label = label.to(device)\n",
        "      output=model(data)\n",
        "      batch_loss=loss(output, label)\n",
        "      optimizer.zero_grad()\n",
        "      batch_loss.backward()\n",
        "      optimizer.step()\n",
        "      b_list.append(batch_loss.cpu().detach().numpy())\n",
        "    loss_list.append(sum(b_list)/len(b_list))\n",
        "  return loss_list"
      ],
      "metadata": {
        "id": "evGS5XUpIugB"
      },
      "execution_count": 4,
      "outputs": []
    },
    {
      "cell_type": "code",
      "source": [
        "class model(nn.Module):\n",
        "  def __init__(self):\n",
        "    super().__init__()\n",
        "    #self.layer1=nn.Linear(768 * 17 * 17, 299 * 299 * 3)\n",
        "    self.layer2=torch.hub.load('pytorch/vision:v0.10.0', 'inception_v3', pretrained=True)\n",
        "    self.MaxPool2b=nn.MaxPool2d(3,2)\n",
        "    self.AvgPool=nn.AdaptiveAvgPool2d((1,1))\n",
        "    self.Upsample=nn.Upsample(scale_factor=(1.17,1.035)) \n",
        "\n",
        "    self.t_layer1=nn.ConvTranspose2d(768,256,kernel_size=3,stride=5)\n",
        "    self.t_layer2=nn.ConvTranspose2d(256,64,3,5)\n",
        "    self.t_layer3=nn.Conv2d(64,32,3,3)\n",
        "    self.t_layer4=nn.ConvTranspose2d(32,16,3,5)\n",
        "    self.t_layer5=nn.Conv2d(16,3,3,2)\n",
        "    self.t_layer6=nn.Conv2d(3,3,3)\n",
        "    #self.t_layer6=nn.Conv2d(3,3,3)\n",
        "    \n",
        "\n",
        "\n",
        "  def forward(self,x):\n",
        "    #x=self.layer1(x)\n",
        "    if self.layer2.transform_input:\n",
        "        x_ch0 = torch.unsqueeze(x[:, 0], 1) * (0.229 / 0.5) + (0.485 - 0.5) / 0.5\n",
        "        x_ch1 = torch.unsqueeze(x[:, 1], 1) * (0.224 / 0.5) + (0.456 - 0.5) / 0.5\n",
        "        x_ch2 = torch.unsqueeze(x[:, 2], 1) * (0.225 / 0.5) + (0.406 - 0.5) / 0.5\n",
        "        x = torch.cat((x_ch0, x_ch1, x_ch2), 1)\n",
        "    # N x 3 x 299 x 299\n",
        "    x = self.layer2.Conv2d_1a_3x3(x)\n",
        "    # N x 32 x 149 x 149\n",
        "    x = self.layer2.Conv2d_2a_3x3(x)\n",
        "    # N x 32 x 147 x 147\n",
        "    x = self.layer2.Conv2d_2b_3x3(x)\n",
        "    # N x 64 x 147 x 147\n",
        "    x = self.MaxPool2b(x)\n",
        "    # N x 64 x 73 x 73\n",
        "    x = self.layer2.Conv2d_3b_1x1(x)\n",
        "    # N x 80 x 73 x 73\n",
        "    x = self.layer2.Conv2d_4a_3x3(x)\n",
        "    # N x 192 x 71 x 71\n",
        "    x = self.MaxPool2b(x)\n",
        "    # N x 192 x 35 x 35\n",
        "    x = self.layer2.Mixed_5b(x)\n",
        "    # N x 256 x 35 x 35\n",
        "    x = self.layer2.Mixed_5c(x)\n",
        "    # N x 288 x 35 x 35\n",
        "    x = self.layer2.Mixed_5d(x)\n",
        "    # N x 288 x 35 x 35\n",
        "    x = self.layer2.Mixed_6a(x)\n",
        "    # N x 768 x 17 x 17\n",
        "    x = self.layer2.Mixed_6b(x)\n",
        "    # N x 768 x 17 x 17\n",
        "    x = self.layer2.Mixed_6c(x)\n",
        "    # N x 768 x 17 x 17\n",
        "    x = self.layer2.Mixed_6d(x)\n",
        "    # N x 768 x 17 x 17\n",
        "    x = self.layer2.Mixed_6e(x)\n",
        "    \n",
        "    #print(x.shape)\n",
        "\n",
        "    # N x 256 x 85 x 85\n",
        "    x=self.t_layer1(x)\n",
        "    # N x 64 x 425 x 425 (why 64, 413, 413)\n",
        "    x=self.t_layer2(x)\n",
        "    # N x 32 x 141 x 141 (why 16, 137, 137)\n",
        "    x=self.t_layer3(x)\n",
        "    # N x 32 x 705 x 705 (4, 683, 683)\n",
        "    x=self.t_layer4(x)\n",
        "    # (3, 341, 341)\n",
        "    x=self.t_layer5(x)\n",
        "    # (3, 299, 299)\n",
        "    for i in range(21):\n",
        "      x=self.t_layer6(x)\n",
        "\n",
        "    return x\n",
        "\n",
        "'''\n",
        "    # N x 768 x 17 x 17\n",
        "    #aux_defined = self.layer2.training and self.layer2.aux_logits\n",
        "    #if aux_defined:\n",
        "    #    aux = self.layer2.AuxLogits(x)\n",
        "    #else:\n",
        "    #    aux = None\n",
        "\n",
        "    # N x 768 x 17 x 17\n",
        "    #x=self.Upsample(x)\n",
        "    x=torch.reshape(x,(-1,3,256,289))    \n",
        "    print(x.shape)\n",
        "    #Upsample here\n",
        "    #x=self.layer2.fc(x)\n",
        "    x=self.Upsample(x) \n",
        "    #print(x.shape) Verify dimension\n",
        "    print(x.shape,\"\\n\")\n",
        "    return x\n",
        "'''\n",
        "\n",
        "model=model()\n",
        "loss=nn.MSELoss()\n",
        "optimizer=torch.optim.Adam(model.parameters())\n",
        "\n",
        "train_data=dataset()\n",
        "#train_data.__getitem__(0)\n",
        "\n",
        "train_data_load=DataLoader(train_data, batch_size=16, shuffle=True, drop_last=True)\n",
        "\n",
        "#for data, label in train_data_load:\n",
        "#  print(data)\n",
        "\n",
        "loss_list=train_model(model, train_data_load, loss, optimizer, epochs=50)"
      ],
      "metadata": {
        "id": "5t-zOGtKIyQY",
        "colab": {
          "base_uri": "https://localhost:8080/"
        },
        "outputId": "657a4c24-cb3c-4abe-dbf3-4db9685a4f07"
      },
      "execution_count": 5,
      "outputs": [
        {
          "output_type": "stream",
          "name": "stderr",
          "text": [
            "Using cache found in /root/.cache/torch/hub/pytorch_vision_v0.10.0\n",
            "/usr/local/lib/python3.9/dist-packages/torchvision/models/_utils.py:208: UserWarning: The parameter 'pretrained' is deprecated since 0.13 and may be removed in the future, please use 'weights' instead.\n",
            "  warnings.warn(\n",
            "/usr/local/lib/python3.9/dist-packages/torchvision/models/_utils.py:223: UserWarning: Arguments other than a weight enum or `None` for 'weights' are deprecated since 0.13 and may be removed in the future. The current behavior is equivalent to passing `weights=Inception_V3_Weights.IMAGENET1K_V1`. You can also use `weights=Inception_V3_Weights.DEFAULT` to get the most up-to-date weights.\n",
            "  warnings.warn(msg)\n"
          ]
        },
        {
          "output_type": "stream",
          "name": "stdout",
          "text": [
            "Epoch:  0\n"
          ]
        },
        {
          "output_type": "stream",
          "name": "stderr",
          "text": [
            "100%|██████████| 18/18 [00:21<00:00,  1.21s/it]\n"
          ]
        },
        {
          "output_type": "stream",
          "name": "stdout",
          "text": [
            "Epoch:  1\n"
          ]
        },
        {
          "output_type": "stream",
          "name": "stderr",
          "text": [
            "100%|██████████| 18/18 [00:20<00:00,  1.14s/it]\n"
          ]
        },
        {
          "output_type": "stream",
          "name": "stdout",
          "text": [
            "Epoch:  2\n"
          ]
        },
        {
          "output_type": "stream",
          "name": "stderr",
          "text": [
            "100%|██████████| 18/18 [00:20<00:00,  1.15s/it]\n"
          ]
        },
        {
          "output_type": "stream",
          "name": "stdout",
          "text": [
            "Epoch:  3\n"
          ]
        },
        {
          "output_type": "stream",
          "name": "stderr",
          "text": [
            "100%|██████████| 18/18 [00:22<00:00,  1.24s/it]\n"
          ]
        },
        {
          "output_type": "stream",
          "name": "stdout",
          "text": [
            "Epoch:  4\n"
          ]
        },
        {
          "output_type": "stream",
          "name": "stderr",
          "text": [
            "100%|██████████| 18/18 [00:19<00:00,  1.09s/it]\n"
          ]
        },
        {
          "output_type": "stream",
          "name": "stdout",
          "text": [
            "Epoch:  5\n"
          ]
        },
        {
          "output_type": "stream",
          "name": "stderr",
          "text": [
            "100%|██████████| 18/18 [00:20<00:00,  1.12s/it]\n"
          ]
        },
        {
          "output_type": "stream",
          "name": "stdout",
          "text": [
            "Epoch:  6\n"
          ]
        },
        {
          "output_type": "stream",
          "name": "stderr",
          "text": [
            "100%|██████████| 18/18 [00:19<00:00,  1.11s/it]\n"
          ]
        },
        {
          "output_type": "stream",
          "name": "stdout",
          "text": [
            "Epoch:  7\n"
          ]
        },
        {
          "output_type": "stream",
          "name": "stderr",
          "text": [
            "100%|██████████| 18/18 [00:24<00:00,  1.36s/it]\n"
          ]
        },
        {
          "output_type": "stream",
          "name": "stdout",
          "text": [
            "Epoch:  8\n"
          ]
        },
        {
          "output_type": "stream",
          "name": "stderr",
          "text": [
            "100%|██████████| 18/18 [00:21<00:00,  1.22s/it]\n"
          ]
        },
        {
          "output_type": "stream",
          "name": "stdout",
          "text": [
            "Epoch:  9\n"
          ]
        },
        {
          "output_type": "stream",
          "name": "stderr",
          "text": [
            "100%|██████████| 18/18 [00:20<00:00,  1.13s/it]\n"
          ]
        },
        {
          "output_type": "stream",
          "name": "stdout",
          "text": [
            "Epoch:  10\n"
          ]
        },
        {
          "output_type": "stream",
          "name": "stderr",
          "text": [
            "100%|██████████| 18/18 [00:20<00:00,  1.12s/it]\n"
          ]
        },
        {
          "output_type": "stream",
          "name": "stdout",
          "text": [
            "Epoch:  11\n"
          ]
        },
        {
          "output_type": "stream",
          "name": "stderr",
          "text": [
            "100%|██████████| 18/18 [00:19<00:00,  1.09s/it]\n"
          ]
        },
        {
          "output_type": "stream",
          "name": "stdout",
          "text": [
            "Epoch:  12\n"
          ]
        },
        {
          "output_type": "stream",
          "name": "stderr",
          "text": [
            "100%|██████████| 18/18 [00:19<00:00,  1.11s/it]\n"
          ]
        },
        {
          "output_type": "stream",
          "name": "stdout",
          "text": [
            "Epoch:  13\n"
          ]
        },
        {
          "output_type": "stream",
          "name": "stderr",
          "text": [
            "100%|██████████| 18/18 [00:19<00:00,  1.09s/it]\n"
          ]
        },
        {
          "output_type": "stream",
          "name": "stdout",
          "text": [
            "Epoch:  14\n"
          ]
        },
        {
          "output_type": "stream",
          "name": "stderr",
          "text": [
            "100%|██████████| 18/18 [00:20<00:00,  1.13s/it]\n"
          ]
        },
        {
          "output_type": "stream",
          "name": "stdout",
          "text": [
            "Epoch:  15\n"
          ]
        },
        {
          "output_type": "stream",
          "name": "stderr",
          "text": [
            "100%|██████████| 18/18 [00:20<00:00,  1.12s/it]\n"
          ]
        },
        {
          "output_type": "stream",
          "name": "stdout",
          "text": [
            "Epoch:  16\n"
          ]
        },
        {
          "output_type": "stream",
          "name": "stderr",
          "text": [
            "100%|██████████| 18/18 [00:23<00:00,  1.33s/it]\n"
          ]
        },
        {
          "output_type": "stream",
          "name": "stdout",
          "text": [
            "Epoch:  17\n"
          ]
        },
        {
          "output_type": "stream",
          "name": "stderr",
          "text": [
            "100%|██████████| 18/18 [00:21<00:00,  1.18s/it]\n"
          ]
        },
        {
          "output_type": "stream",
          "name": "stdout",
          "text": [
            "Epoch:  18\n"
          ]
        },
        {
          "output_type": "stream",
          "name": "stderr",
          "text": [
            "100%|██████████| 18/18 [00:19<00:00,  1.11s/it]\n"
          ]
        },
        {
          "output_type": "stream",
          "name": "stdout",
          "text": [
            "Epoch:  19\n"
          ]
        },
        {
          "output_type": "stream",
          "name": "stderr",
          "text": [
            "100%|██████████| 18/18 [00:21<00:00,  1.19s/it]\n"
          ]
        },
        {
          "output_type": "stream",
          "name": "stdout",
          "text": [
            "Epoch:  20\n"
          ]
        },
        {
          "output_type": "stream",
          "name": "stderr",
          "text": [
            "100%|██████████| 18/18 [00:20<00:00,  1.11s/it]\n"
          ]
        },
        {
          "output_type": "stream",
          "name": "stdout",
          "text": [
            "Epoch:  21\n"
          ]
        },
        {
          "output_type": "stream",
          "name": "stderr",
          "text": [
            "100%|██████████| 18/18 [00:20<00:00,  1.11s/it]\n"
          ]
        },
        {
          "output_type": "stream",
          "name": "stdout",
          "text": [
            "Epoch:  22\n"
          ]
        },
        {
          "output_type": "stream",
          "name": "stderr",
          "text": [
            "100%|██████████| 18/18 [00:19<00:00,  1.10s/it]\n"
          ]
        },
        {
          "output_type": "stream",
          "name": "stdout",
          "text": [
            "Epoch:  23\n"
          ]
        },
        {
          "output_type": "stream",
          "name": "stderr",
          "text": [
            "100%|██████████| 18/18 [00:19<00:00,  1.09s/it]\n"
          ]
        },
        {
          "output_type": "stream",
          "name": "stdout",
          "text": [
            "Epoch:  24\n"
          ]
        },
        {
          "output_type": "stream",
          "name": "stderr",
          "text": [
            "100%|██████████| 18/18 [00:23<00:00,  1.30s/it]\n"
          ]
        },
        {
          "output_type": "stream",
          "name": "stdout",
          "text": [
            "Epoch:  25\n"
          ]
        },
        {
          "output_type": "stream",
          "name": "stderr",
          "text": [
            "100%|██████████| 18/18 [00:20<00:00,  1.14s/it]\n"
          ]
        },
        {
          "output_type": "stream",
          "name": "stdout",
          "text": [
            "Epoch:  26\n"
          ]
        },
        {
          "output_type": "stream",
          "name": "stderr",
          "text": [
            "100%|██████████| 18/18 [00:22<00:00,  1.27s/it]\n"
          ]
        },
        {
          "output_type": "stream",
          "name": "stdout",
          "text": [
            "Epoch:  27\n"
          ]
        },
        {
          "output_type": "stream",
          "name": "stderr",
          "text": [
            "100%|██████████| 18/18 [00:23<00:00,  1.29s/it]\n"
          ]
        },
        {
          "output_type": "stream",
          "name": "stdout",
          "text": [
            "Epoch:  28\n"
          ]
        },
        {
          "output_type": "stream",
          "name": "stderr",
          "text": [
            "100%|██████████| 18/18 [00:21<00:00,  1.20s/it]\n"
          ]
        },
        {
          "output_type": "stream",
          "name": "stdout",
          "text": [
            "Epoch:  29\n"
          ]
        },
        {
          "output_type": "stream",
          "name": "stderr",
          "text": [
            "100%|██████████| 18/18 [00:21<00:00,  1.18s/it]\n"
          ]
        },
        {
          "output_type": "stream",
          "name": "stdout",
          "text": [
            "Epoch:  30\n"
          ]
        },
        {
          "output_type": "stream",
          "name": "stderr",
          "text": [
            "100%|██████████| 18/18 [00:21<00:00,  1.18s/it]\n"
          ]
        },
        {
          "output_type": "stream",
          "name": "stdout",
          "text": [
            "Epoch:  31\n"
          ]
        },
        {
          "output_type": "stream",
          "name": "stderr",
          "text": [
            "100%|██████████| 18/18 [00:21<00:00,  1.22s/it]\n"
          ]
        },
        {
          "output_type": "stream",
          "name": "stdout",
          "text": [
            "Epoch:  32\n"
          ]
        },
        {
          "output_type": "stream",
          "name": "stderr",
          "text": [
            "100%|██████████| 18/18 [00:21<00:00,  1.19s/it]\n"
          ]
        },
        {
          "output_type": "stream",
          "name": "stdout",
          "text": [
            "Epoch:  33\n"
          ]
        },
        {
          "output_type": "stream",
          "name": "stderr",
          "text": [
            "100%|██████████| 18/18 [00:21<00:00,  1.18s/it]\n"
          ]
        },
        {
          "output_type": "stream",
          "name": "stdout",
          "text": [
            "Epoch:  34\n"
          ]
        },
        {
          "output_type": "stream",
          "name": "stderr",
          "text": [
            "100%|██████████| 18/18 [00:21<00:00,  1.22s/it]\n"
          ]
        },
        {
          "output_type": "stream",
          "name": "stdout",
          "text": [
            "Epoch:  35\n"
          ]
        },
        {
          "output_type": "stream",
          "name": "stderr",
          "text": [
            "100%|██████████| 18/18 [00:27<00:00,  1.52s/it]\n"
          ]
        },
        {
          "output_type": "stream",
          "name": "stdout",
          "text": [
            "Epoch:  36\n"
          ]
        },
        {
          "output_type": "stream",
          "name": "stderr",
          "text": [
            "100%|██████████| 18/18 [00:21<00:00,  1.17s/it]\n"
          ]
        },
        {
          "output_type": "stream",
          "name": "stdout",
          "text": [
            "Epoch:  37\n"
          ]
        },
        {
          "output_type": "stream",
          "name": "stderr",
          "text": [
            "100%|██████████| 18/18 [00:21<00:00,  1.19s/it]\n"
          ]
        },
        {
          "output_type": "stream",
          "name": "stdout",
          "text": [
            "Epoch:  38\n"
          ]
        },
        {
          "output_type": "stream",
          "name": "stderr",
          "text": [
            "100%|██████████| 18/18 [00:31<00:00,  1.74s/it]\n"
          ]
        },
        {
          "output_type": "stream",
          "name": "stdout",
          "text": [
            "Epoch:  39\n"
          ]
        },
        {
          "output_type": "stream",
          "name": "stderr",
          "text": [
            "100%|██████████| 18/18 [00:20<00:00,  1.12s/it]\n"
          ]
        },
        {
          "output_type": "stream",
          "name": "stdout",
          "text": [
            "Epoch:  40\n"
          ]
        },
        {
          "output_type": "stream",
          "name": "stderr",
          "text": [
            "100%|██████████| 18/18 [00:21<00:00,  1.20s/it]\n"
          ]
        },
        {
          "output_type": "stream",
          "name": "stdout",
          "text": [
            "Epoch:  41\n"
          ]
        },
        {
          "output_type": "stream",
          "name": "stderr",
          "text": [
            "100%|██████████| 18/18 [00:20<00:00,  1.13s/it]\n"
          ]
        },
        {
          "output_type": "stream",
          "name": "stdout",
          "text": [
            "Epoch:  42\n"
          ]
        },
        {
          "output_type": "stream",
          "name": "stderr",
          "text": [
            "100%|██████████| 18/18 [00:20<00:00,  1.13s/it]\n"
          ]
        },
        {
          "output_type": "stream",
          "name": "stdout",
          "text": [
            "Epoch:  43\n"
          ]
        },
        {
          "output_type": "stream",
          "name": "stderr",
          "text": [
            "100%|██████████| 18/18 [00:24<00:00,  1.37s/it]\n"
          ]
        },
        {
          "output_type": "stream",
          "name": "stdout",
          "text": [
            "Epoch:  44\n"
          ]
        },
        {
          "output_type": "stream",
          "name": "stderr",
          "text": [
            "100%|██████████| 18/18 [00:22<00:00,  1.25s/it]\n"
          ]
        },
        {
          "output_type": "stream",
          "name": "stdout",
          "text": [
            "Epoch:  45\n"
          ]
        },
        {
          "output_type": "stream",
          "name": "stderr",
          "text": [
            "100%|██████████| 18/18 [00:20<00:00,  1.16s/it]\n"
          ]
        },
        {
          "output_type": "stream",
          "name": "stdout",
          "text": [
            "Epoch:  46\n"
          ]
        },
        {
          "output_type": "stream",
          "name": "stderr",
          "text": [
            "100%|██████████| 18/18 [00:20<00:00,  1.13s/it]\n"
          ]
        },
        {
          "output_type": "stream",
          "name": "stdout",
          "text": [
            "Epoch:  47\n"
          ]
        },
        {
          "output_type": "stream",
          "name": "stderr",
          "text": [
            "100%|██████████| 18/18 [00:23<00:00,  1.31s/it]\n"
          ]
        },
        {
          "output_type": "stream",
          "name": "stdout",
          "text": [
            "Epoch:  48\n"
          ]
        },
        {
          "output_type": "stream",
          "name": "stderr",
          "text": [
            "100%|██████████| 18/18 [00:20<00:00,  1.14s/it]\n"
          ]
        },
        {
          "output_type": "stream",
          "name": "stdout",
          "text": [
            "Epoch:  49\n"
          ]
        },
        {
          "output_type": "stream",
          "name": "stderr",
          "text": [
            "100%|██████████| 18/18 [00:21<00:00,  1.17s/it]\n"
          ]
        }
      ]
    },
    {
      "cell_type": "code",
      "source": [
        "model.eval()\n",
        "\n",
        "test_data=dataset(test=True)\n",
        "test_data_loader=DataLoader(test_data, batch_size=16, shuffle=True)\n",
        "\n",
        "for data, _ in test_data_loader:\n",
        "  device=torch.device('cuda:0')\n",
        "  #data=data.reshape(-1, 1242 * 375 * 3)\n",
        "  data=data.to(device)\n",
        "  predictions=model(data)\n",
        "  break"
      ],
      "metadata": {
        "id": "gvQxgfAHIz4Q"
      },
      "execution_count": 15,
      "outputs": []
    },
    {
      "cell_type": "code",
      "source": [
        "# display reconstruction\n",
        "#ax = plt.subplot(3, n, i + 1 + n + n)\n",
        "#np.moveaxis(predictions[0], 0, -1).shape # Changing image format from 3 * 299 * 299 into 299 * 299 * 3\n",
        "pred=predictions[2].permute(1,2,0)\n",
        "\n",
        "plt.imshow(pred.cpu().detach().numpy())\n",
        "#plt.gray()\n",
        "#ax.get_xaxis().set_visible(False)\n",
        "#ax.get_yaxis().set_visible(False)\n",
        "#plt.show()\n",
        "\n",
        "test_img=data[2].permute(1,2,0)\n",
        "plt.imshow(test_img.cpu().detach().numpy(), alpha = 0.6)\n",
        "plt.show()"
      ],
      "metadata": {
        "colab": {
          "base_uri": "https://localhost:8080/",
          "height": 287
        },
        "id": "wXfEzY7PN2E_",
        "outputId": "8801f3a0-4744-4d71-fc23-0f87828b5f49"
      },
      "execution_count": 22,
      "outputs": [
        {
          "output_type": "stream",
          "name": "stderr",
          "text": [
            "WARNING:matplotlib.image:Clipping input data to the valid range for imshow with RGB data ([0..1] for floats or [0..255] for integers).\n"
          ]
        },
        {
          "output_type": "display_data",
          "data": {
            "text/plain": [
              "<Figure size 432x288 with 1 Axes>"
            ],
            "image/png": "[encoded data removed]"
          },
          "metadata": {
            "needs_background": "light"
          }
        }
      ]
    }
  ]
}